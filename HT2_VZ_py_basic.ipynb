{
  "nbformat": 4,
  "nbformat_minor": 0,
  "metadata": {
    "colab": {
      "name": "HT2_VZ_py_basic.ipynb",
      "provenance": [],
      "authorship_tag": "ABX9TyM5yAEHKuv8wBCgINk3xbiJ",
      "include_colab_link": true
    },
    "kernelspec": {
      "name": "python3",
      "display_name": "Python 3"
    },
    "language_info": {
      "name": "python"
    }
  },
  "cells": [
    {
      "cell_type": "markdown",
      "metadata": {
        "id": "view-in-github",
        "colab_type": "text"
      },
      "source": [
        "<a href=\"https://colab.research.google.com/github/VitalZH/HT1_VZ_14_05/blob/main/HT2_VZ_py_basic.ipynb\" target=\"_parent\"><img src=\"https://colab.research.google.com/assets/colab-badge.svg\" alt=\"Open In Colab\"/></a>"
      ]
    },
    {
      "cell_type": "code",
      "execution_count": null,
      "metadata": {
        "colab": {
          "base_uri": "https://localhost:8080/"
        },
        "id": "EUmLgm3mBc68",
        "outputId": "a2272395-de74-4330-d823-ae8d7223311e"
      },
      "outputs": [
        {
          "output_type": "stream",
          "name": "stdout",
          "text": [
            "# 0 _ 0000\n",
            "# 1 _ 0000\n",
            "# 2 _ 0000\n",
            "# 3 _ 0000\n",
            "# 4 _ 0000\n",
            "end\n"
          ]
        }
      ],
      "source": [
        "#Задачи на циклы и оператор условия, категория LITE------\n",
        "#----------------------------------------\n",
        "\n",
        "'''\n",
        "Задача 1\n",
        "Вывести на экран циклом пять строк из нулей длиной 4, причем каждая строка должна быть пронумерована.\n",
        "Пример:\n",
        "    0 0000\n",
        "    1 0000\n",
        "    2 0000\n",
        "    3 0000\n",
        "....\n",
        "'''\n",
        "\n",
        "# решение задача №1\n",
        "i = 0\n",
        "str_num = 0\n",
        "while i <= 4:\n",
        "  print('#', str_num, end = ' _ ')\n",
        "  print('0000')\n",
        "  i += 1\n",
        "  str_num += 1\n",
        "print('end')"
      ]
    },
    {
      "cell_type": "code",
      "source": [
        "'''\n",
        "Задача 2\n",
        "Пользователь в цикле вводит 10 производных цифр. Выведите количество введеных пользователем цифр 5.\n",
        "'''\n",
        "\n",
        "# Решение задача №2\n",
        "count_num = 0 \n",
        "step_num = 0\n",
        "while step_num <= 9:\n",
        "  enter_dig = ''\n",
        "  while not enter_dig.isdigit():\n",
        "    enter_dig = input('Введите числовое значение: ')\n",
        "  enter_dig = int(enter_dig)\n",
        "  step_num += 1\n",
        "  if enter_dig == 5:\n",
        "    count_num += 1\n",
        "  print('Вы ввели значение \"5\":', count_num, 'раз')\n",
        "print('End')\n",
        "#Вопрос, почему isdigit() не работатет с отрицательными числами как избежать"
      ],
      "metadata": {
        "colab": {
          "base_uri": "https://localhost:8080/"
        },
        "id": "f2vFp9nxB1qK",
        "outputId": "ea4e7157-92c3-495a-9f32-b05775026a0e"
      },
      "execution_count": null,
      "outputs": [
        {
          "output_type": "stream",
          "name": "stdout",
          "text": [
            "Введите числовое значение: 1\n",
            "Вы ввели значение \"5\": 0 раз\n",
            "Введите числовое значение: 5\n",
            "Вы ввели значение \"5\": 1 раз\n",
            "Введите числовое значение: 5\n",
            "Вы ввели значение \"5\": 2 раз\n",
            "Введите числовое значение: -3\n",
            "Введите числовое значение: 3\n",
            "Вы ввели значение \"5\": 2 раз\n",
            "Введите числовое значение: 5\n",
            "Вы ввели значение \"5\": 3 раз\n",
            "Введите числовое значение: -4\n",
            "Введите числовое значение: -5\n",
            "Введите числовое значение: 1\n",
            "Вы ввели значение \"5\": 3 раз\n",
            "Введите числовое значение: 78\n",
            "Вы ввели значение \"5\": 3 раз\n",
            "Введите числовое значение: 5\n",
            "Вы ввели значение \"5\": 4 раз\n",
            "Введите числовое значение: -5\n",
            "Введите числовое значение: -3\n",
            "Введите числовое значение: ааа\n",
            "Введите числовое значение: ввв\n",
            "Введите числовое значение: 3\n",
            "Вы ввели значение \"5\": 4 раз\n",
            "Введите числовое значение: 12\n",
            "Вы ввели значение \"5\": 4 раз\n",
            "End\n"
          ]
        }
      ]
    },
    {
      "cell_type": "code",
      "source": [
        "'''\n",
        "Задача 3\n",
        "Вывести сумму ряда чисел от 1 до 100. Полученный результат вывести на экран.\n",
        "'''\n",
        "#Решение, задача №3\n",
        "sum_count = 0\n",
        "step_num = 1\n",
        "while step_num <=100:\n",
        "  sum_count = sum_count + step_num\n",
        "  step_num += 1\n",
        "print('Summ of diget row from 1 to 100: ', sum_count)\n"
      ],
      "metadata": {
        "id": "CPDSYiQgJri3",
        "colab": {
          "base_uri": "https://localhost:8080/"
        },
        "outputId": "8b225056-6c22-4d34-a434-69350e7156f3"
      },
      "execution_count": null,
      "outputs": [
        {
          "output_type": "stream",
          "name": "stdout",
          "text": [
            "Summ of diget row from 1 to 100:  5050\n"
          ]
        }
      ]
    },
    {
      "cell_type": "code",
      "source": [
        "'''\n",
        "Задача 4\n",
        "Найти произведение ряда чисел от 1 до 10. Полученный результат вывести на экран(можно поискать в интернете алгоритм факториала в python).\n",
        "'''\n",
        "#Решение, задача №4 вар.1\n",
        "factorial_count = 1\n",
        "step_num = 1\n",
        "while step_num <=10:\n",
        "  factorial_count = factorial_count * step_num\n",
        "  step_num += 1\n",
        "print('VAR_1 - Factorial of diget row from 1 to 100: ', factorial_count)\n"
      ],
      "metadata": {
        "colab": {
          "base_uri": "https://localhost:8080/"
        },
        "id": "wI5qT0b1R0SI",
        "outputId": "c5e8bb17-af20-4a9d-81e7-77ca2991bdb3"
      },
      "execution_count": null,
      "outputs": [
        {
          "output_type": "stream",
          "name": "stdout",
          "text": [
            "Factorial of diget row from 1 to 100:  3628800\n"
          ]
        }
      ]
    },
    {
      "cell_type": "code",
      "source": [
        "#Решение, задача №4 вар.2\n",
        "n = int(input('Enter factorial number:'))\n",
        "\n",
        "factorial = 1\n",
        "while n > 1:\n",
        "  factorial = factorial * n\n",
        "  n = n - 1\n",
        "print('Factorial of above number equals to:', factorial)\n",
        "print('end')"
      ],
      "metadata": {
        "colab": {
          "base_uri": "https://localhost:8080/"
        },
        "id": "uR79-ufliNiu",
        "outputId": "67a14bb5-88f7-43ef-f66a-7405a4f65196"
      },
      "execution_count": null,
      "outputs": [
        {
          "output_type": "stream",
          "name": "stdout",
          "text": [
            "Enter factorial number:8\n",
            "Factorial of above number equals to: 40320\n",
            "end\n"
          ]
        }
      ]
    },
    {
      "cell_type": "code",
      "source": [
        "'''\n",
        "(!!!Подсказка на следующую задачу - превратите число в строку, а потом работайте с строкой)\n",
        "Задача 5\n",
        "Вывести цифры числа на каждой новой строке.\n",
        "Пример:\n",
        "     123567\n",
        "     1\n",
        "     2\n",
        "     3\n",
        "     4\n",
        "     5\n",
        "     6\n",
        "     7\n",
        "'''\n",
        "#Решение, задача №5\n",
        "slovo = ''\n",
        "while not slovo.isdigit():\n",
        "  slovo = input('inter digit row:')\n",
        "print(type(slovo))\n",
        "#slovo =str(slovo)\n",
        "for i in slovo:\n",
        "  print(i)\n",
        "print('end')"
      ],
      "metadata": {
        "colab": {
          "base_uri": "https://localhost:8080/"
        },
        "id": "sbvczRUVlmpF",
        "outputId": "4139d396-e526-4d29-c0e8-54f576799f03"
      },
      "execution_count": 3,
      "outputs": [
        {
          "output_type": "stream",
          "name": "stdout",
          "text": [
            "inter digit row:234556677\n",
            "<class 'str'>\n",
            "2\n",
            "3\n",
            "4\n",
            "5\n",
            "5\n",
            "6\n",
            "6\n",
            "7\n",
            "7\n",
            "end\n"
          ]
        }
      ]
    },
    {
      "cell_type": "code",
      "source": [
        "'''\n",
        "(!!!Подсказка на следующие 5 задач - превратите число в строку, а потом работайте с строкой)\n",
        "Задача 6\n",
        "Найти сумму цифр числа.\n",
        "    Пример:\n",
        "    254314\n",
        "    Сумма цифр числа - 19(2+5+4+3+1+4)\n",
        "'''\n",
        "#Решение, задача №6\n",
        "sum_count = 0\n",
        "chis_lo = 1234567\n",
        "print(chis_lo, type(chis_lo))\n",
        "chis_lo = str(chis_lo)\n",
        "print(chis_lo, type(chis_lo))\n",
        "for i in chis_lo:\n",
        " # print(i, end='+')\n",
        "  i = int(i)\n",
        "  sum_count +=i\n",
        "print('\\nсумма элементов числа =', sum_count)\n",
        "print('end')\n",
        "\n"
      ],
      "metadata": {
        "id": "gml4xckQbjFJ",
        "outputId": "fde6c481-fec9-491f-9d1b-13f25790cb08",
        "colab": {
          "base_uri": "https://localhost:8080/"
        }
      },
      "execution_count": 36,
      "outputs": [
        {
          "output_type": "stream",
          "name": "stdout",
          "text": [
            "1234567 <class 'int'>\n",
            "1234567 <class 'str'>\n",
            "\n",
            "сумма элементов числа = 28\n",
            "end\n"
          ]
        }
      ]
    },
    {
      "cell_type": "code",
      "source": [
        "'''\n",
        "Задача 7\n",
        "Найти произведение цифр числа.\n",
        "    Пример:\n",
        "    254314\n",
        "    Произведение цифр числа - 480(2*5*4*3*1*4)\n",
        "'''\n",
        "#Решение, задача №7\n",
        "sum_count = 1\n",
        "chis_lo = 11123\n",
        "print(chis_lo, type(chis_lo))\n",
        "chis_lo = str(chis_lo)\n",
        "print(chis_lo, type(chis_lo))\n",
        "for i in chis_lo:\n",
        "  i = int(i)\n",
        "  sum_count *=i\n",
        "print('\\nпроизведение элементов числа =', sum_count)\n",
        "print('end')"
      ],
      "metadata": {
        "colab": {
          "base_uri": "https://localhost:8080/"
        },
        "id": "WrEiZle8sQbM",
        "outputId": "619495c4-8f22-4ae9-d3e1-f1d5bb0712f1"
      },
      "execution_count": 41,
      "outputs": [
        {
          "output_type": "stream",
          "name": "stdout",
          "text": [
            "11123 <class 'int'>\n",
            "11123 <class 'str'>\n",
            "\n",
            "произведение элементов числа = 6\n",
            "end\n"
          ]
        }
      ]
    },
    {
      "cell_type": "code",
      "source": [
        "'''\n",
        "Задача 8\n",
        "Пользователь должен ввести число. Ваш код должен дать ответ на вопрос: есть ли среди цифр числа 5?\n",
        "Если есть, код должен вывексти \"Цифра 5 есть в числе\", в противном случае вывести: \"Цифры 5 нет в числе\".\n",
        "'''\n",
        "enter_digit = ''\n",
        "while not enter_digit.isdigit():\n",
        "  enter_digit = input('введите натуральное число:')\n",
        "#print(type(enter_digit))\n",
        "for i in enter_digit:\n",
        "  i = int(i)\n",
        "  if i == 5:\n",
        "    print('Цифра 5 есть в числе')\n",
        "    break\n",
        "else: #else в цикле for или while выполнится если выход из цикла произошел без помощи break\n",
        "  print('Цифры 5 нет в числе')"
      ],
      "metadata": {
        "colab": {
          "base_uri": "https://localhost:8080/"
        },
        "id": "reF62O3qtpRe",
        "outputId": "12e75015-7055-4827-8390-5738c46a2e63"
      },
      "execution_count": 51,
      "outputs": [
        {
          "output_type": "stream",
          "name": "stdout",
          "text": [
            "введите натуральное число:r\n",
            "введите натуральное число:w3344555\n",
            "введите натуральное число:12345123555\n",
            "Цифра 5 есть в числе\n"
          ]
        }
      ]
    },
    {
      "cell_type": "code",
      "source": [
        "'''\n",
        "Задача 9\n",
        "Найти максимальную цифру в числе\n",
        "Пример:\n",
        "    354359688\n",
        "    'Цифра - 9 максимальная в числе 354359688'\n",
        "'''\n",
        "\n",
        "# решение задания 9 вар1\n",
        "# блок ввода сравнимоего числа\n",
        "enter_num = ''\n",
        "while not enter_num.isdigit():\n",
        "  enter_num = input('введите натуральное число:')\n",
        "#enter_num = int(enter_num)\n",
        "print(enter_num, type(enter_num))\n",
        "\n",
        "\n",
        "# блок сравнения элементов последовательности\n",
        "max_num = 0\n",
        "for i in enter_num:\n",
        "  i = int(i)\n",
        "  if i > max_num:\n",
        "    max_num = i\n",
        "print ('Максимальный элемент в', enter_num, 'число - ', max_num)\n",
        "\n",
        "\n",
        "# вариант 2 решения задачи\n",
        "print('\\nSecont var to find max element -', max(enter_num))"
      ],
      "metadata": {
        "colab": {
          "base_uri": "https://localhost:8080/"
        },
        "id": "LGix-fZdO4Bh",
        "outputId": "4a7f5eb4-bbab-41c0-82c1-55a7519f28de"
      },
      "execution_count": 15,
      "outputs": [
        {
          "output_type": "stream",
          "name": "stdout",
          "text": [
            "введите натуральное число:12345698765\n",
            "12345698765 <class 'str'>\n",
            "Максимальный элемент в 12345698765 число -  9\n",
            "\n",
            "Secont var to find max element - 9\n"
          ]
        }
      ]
    },
    {
      "cell_type": "code",
      "source": [
        "'''\n",
        "Задача 10\n",
        "Найти количество цифр 5 в числе\n",
        "    Пример:\n",
        "        543231235643\n",
        "        'В числе 2 5-ки.'\n",
        "'''\n",
        "count_5 = 0\n",
        "enter_num = ''\n",
        "while not enter_num.isdigit():\n",
        "  enter_num = input('Enter any pozitive digit:')\n",
        "  \n",
        "for i in enter_num:\n",
        "  i = int(i)\n",
        "  if i == 5:\n",
        "    count_5 +=1\n",
        "print('Digit:', enter_num, 'contains \"5\"', count_5, 'tims')\n",
        "\n"
      ],
      "metadata": {
        "colab": {
          "base_uri": "https://localhost:8080/"
        },
        "id": "8TqTRpITWRzO",
        "outputId": "fbe6bca1-3137-44d1-d9fb-69a97e12c892"
      },
      "execution_count": 16,
      "outputs": [
        {
          "output_type": "stream",
          "name": "stdout",
          "text": [
            "Enter any pozitive digit:d\n",
            "Enter any pozitive digit:123-3\n",
            "Enter any pozitive digit:12545659\n",
            "Digit: 12545659 contains \"5\" 3 tims\n"
          ]
        }
      ]
    }
  ]
}
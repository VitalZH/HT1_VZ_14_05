{
  "nbformat": 4,
  "nbformat_minor": 0,
  "metadata": {
    "colab": {
      "name": "HT2_VZ_py_basic.ipynb",
      "provenance": [],
      "authorship_tag": "ABX9TyPa8NMOCcKlGs7SBsCw07hm",
      "include_colab_link": true
    },
    "kernelspec": {
      "name": "python3",
      "display_name": "Python 3"
    },
    "language_info": {
      "name": "python"
    }
  },
  "cells": [
    {
      "cell_type": "markdown",
      "metadata": {
        "id": "view-in-github",
        "colab_type": "text"
      },
      "source": [
        "<a href=\"https://colab.research.google.com/github/VitalZH/HT1_VZ_14_05/blob/main/HT2_VZ_py_basic.ipynb\" target=\"_parent\"><img src=\"https://colab.research.google.com/assets/colab-badge.svg\" alt=\"Open In Colab\"/></a>"
      ]
    },
    {
      "cell_type": "code",
      "execution_count": null,
      "metadata": {
        "colab": {
          "base_uri": "https://localhost:8080/"
        },
        "id": "EUmLgm3mBc68",
        "outputId": "a2272395-de74-4330-d823-ae8d7223311e"
      },
      "outputs": [
        {
          "output_type": "stream",
          "name": "stdout",
          "text": [
            "# 0 _ 0000\n",
            "# 1 _ 0000\n",
            "# 2 _ 0000\n",
            "# 3 _ 0000\n",
            "# 4 _ 0000\n",
            "end\n"
          ]
        }
      ],
      "source": [
        "#Задачи на циклы и оператор условия------\n",
        "#----------------------------------------\n",
        "\n",
        "'''\n",
        "Задача 1\n",
        "Вывести на экран циклом пять строк из нулей длиной 4, причем каждая строка должна быть пронумерована.\n",
        "Пример:\n",
        "    0 0000\n",
        "    1 0000\n",
        "    2 0000\n",
        "    3 0000\n",
        "....\n",
        "'''\n",
        "\n",
        "# решение задача №1\n",
        "i = 0\n",
        "str_num = 0\n",
        "while i <= 4:\n",
        "  print('#', str_num, end = ' _ ')\n",
        "  print('0000')\n",
        "  i += 1\n",
        "  str_num += 1\n",
        "print('end')"
      ]
    },
    {
      "cell_type": "code",
      "source": [
        "'''\n",
        "Задача 2\n",
        "Пользователь в цикле вводит 10 производных цифр. Выведите количество введеных пользователем цифр 5.\n",
        "'''\n",
        "\n",
        "# Решение задача №2\n",
        "count_num = 0 \n",
        "step_num = 0\n",
        "while step_num <= 9:\n",
        "  enter_dig = ''\n",
        "  while not enter_dig.isdigit():\n",
        "    enter_dig = input('Введите числовое значение: ')\n",
        "  enter_dig = int(enter_dig)\n",
        "  step_num += 1\n",
        "  if enter_dig == 5:\n",
        "    count_num += 1\n",
        "  print('Вы ввели значение \"5\":', count_num, 'раз')\n",
        "print('End')"
      ],
      "metadata": {
        "colab": {
          "base_uri": "https://localhost:8080/"
        },
        "id": "f2vFp9nxB1qK",
        "outputId": "843bb24a-1156-4819-b259-21616f1bbfda"
      },
      "execution_count": 8,
      "outputs": [
        {
          "output_type": "stream",
          "name": "stdout",
          "text": [
            "Введите числовое значение: 1\n",
            "Вы ввели значение \"5\": 0 раз\n",
            "Введите числовое значение: 2\n",
            "Вы ввели значение \"5\": 0 раз\n",
            "Введите числовое значение: 3\n",
            "Вы ввели значение \"5\": 0 раз\n",
            "Введите числовое значение: 4\n",
            "Вы ввели значение \"5\": 0 раз\n",
            "Введите числовое значение: 5\n",
            "Вы ввели значение \"5\": 1 раз\n",
            "Введите числовое значение: 5\n",
            "Вы ввели значение \"5\": 2 раз\n",
            "Введите числовое значение: 5\n",
            "Вы ввели значение \"5\": 3 раз\n",
            "Введите числовое значение: \n",
            "Введите числовое значение: t\n",
            "Введите числовое значение: t\n",
            "Введите числовое значение: y\n",
            "Введите числовое значение: 6y\n",
            "Введите числовое значение: 5\n",
            "Вы ввели значение \"5\": 4 раз\n",
            "Введите числовое значение: 7\n",
            "Вы ввели значение \"5\": 4 раз\n",
            "Введите числовое значение: t\n",
            "Введите числовое значение: 56y\n",
            "Введите числовое значение: 5\n",
            "Вы ввели значение \"5\": 5 раз\n",
            "End\n"
          ]
        }
      ]
    },
    {
      "cell_type": "code",
      "source": [
        ""
      ],
      "metadata": {
        "id": "CPDSYiQgJri3"
      },
      "execution_count": null,
      "outputs": []
    }
  ]
}